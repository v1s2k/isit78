{
 "cells": [
  {
   "cell_type": "code",
   "execution_count": 1,
   "id": "initial_id",
   "metadata": {
    "collapsed": true,
    "ExecuteTime": {
     "end_time": "2023-10-22T19:34:43.247291300Z",
     "start_time": "2023-10-22T19:34:34.370530600Z"
    }
   },
   "outputs": [
    {
     "name": "stdout",
     "output_type": "stream",
     "text": [
      "\tМетрики  SMOTE \n",
      "SVM scores: 0.9707\n",
      "KNN scores: 0.9414\n",
      "RF scores: 0.9531\n",
      "\tМетрики  SMOTE 1\n",
      "SVM scores: 0.9699\n",
      "KNN scores: 0.9438\n",
      "RF scores: 0.9598\n",
      "\tМетрики  SMOTE 2\n",
      "SVM scores: 0.9518\n",
      "KNN scores: 0.9397\n",
      "RF scores: 0.9337\n",
      "Before OverSampling, counts of label '1': 249\n",
      "Before OverSampling, counts of label '0':  149\n",
      "After OverSampling, counts of label '1':  249\n",
      "After OverSampling, counts of label '0':  249\n"
     ]
    }
   ],
   "source": [
    "from sklearn.datasets import load_breast_cancer\n",
    "from imblearn.over_sampling import SMOTE, BorderlineSMOTE\n",
    "from sklearn.preprocessing import StandardScaler\n",
    "from sklearn.svm import SVC\n",
    "from sklearn.neighbors import KNeighborsClassifier\n",
    "from sklearn.ensemble import RandomForestClassifier\n",
    "from sklearn.model_selection import cross_val_score, train_test_split\n",
    "import numpy as np\n",
    "from sklearn.metrics import accuracy_score, precision_score, recall_score, f1_score\n",
    "\n",
    "\n",
    "data = load_breast_cancer()\n",
    "X = data.data\n",
    "y = data.target\n",
    "X_train, X_test, y_train, y_test = train_test_split(X, y, test_size=0.3, random_state=42)\n",
    "\n",
    "#  SMOTE\n",
    "sm = SMOTE(sampling_strategy='auto',random_state=42,k_neighbors=5)\n",
    "X_train_sm, y_train_sm = sm.fit_resample(X_train, y_train)\n",
    "scaler = StandardScaler()\n",
    "X_train_sm = scaler.fit_transform(X_train_sm)\n",
    "X_test_sm = scaler.transform(X_test)\n",
    "\n",
    "#  borderline-SMOTE-1\n",
    "bsmote1 = BorderlineSMOTE(sampling_strategy='auto', k_neighbors=5, kind='borderline-1', random_state=42)\n",
    "X_bsmote1, y_bsmote1 = bsmote1.fit_resample(X_train, y_train)\n",
    "scaler = StandardScaler()\n",
    "X_bsmote1 = scaler.fit_transform(X_bsmote1)\n",
    "X_test_bs1 = scaler.transform(X_test)\n",
    "\n",
    "\n",
    "#  borderline-SMOTE-2\n",
    "bsmote2 = BorderlineSMOTE(sampling_strategy='auto', k_neighbors=5, kind='borderline-2', random_state=42)\n",
    "X_bsmote2, y_bsmote2 = bsmote2.fit_resample(X_train, y_train)\n",
    "scaler = StandardScaler()\n",
    "X_bsmote2 = scaler.fit_transform(X_bsmote2)\n",
    "X_test_bs2 = scaler.transform(X_test)\n",
    "\n",
    "\n",
    "svm = SVC()\n",
    "knn = KNeighborsClassifier()\n",
    "rf = RandomForestClassifier()\n",
    "\n",
    "\n",
    "\n",
    "print('\\tМетрики  SMOTE ')\n",
    "svm_scores = cross_val_score(svm, X_test_sm, y_test, cv=7)\n",
    "print(f\"SVM scores:\", np.round(svm_scores.mean(),4))\n",
    "\n",
    "\n",
    "knn_scores = cross_val_score(knn, X_test_sm, y_test, cv=7)\n",
    "print(f\"KNN scores:\" ,np.round(knn_scores.mean(),4))\n",
    "\n",
    "\n",
    "rf_scores = cross_val_score(rf, X_test_sm, y_test, cv=7)\n",
    "print(f\"RF scores:\" ,np.round(rf_scores.mean(),4))\n",
    "\n",
    "print('\\tМетрики  SMOTE 1')\n",
    "svm_bsscores = cross_val_score(svm, X_bsmote1, y_bsmote1 , cv=7)\n",
    "print(f\"SVM scores:\", np.round(svm_bsscores.mean(),4))\n",
    "\n",
    "\n",
    "knn_bsscores = cross_val_score(knn, X_bsmote1, y_bsmote1 , cv=7)\n",
    "print(f\"KNN scores:\",np.round(knn_bsscores.mean(),4))\n",
    "\n",
    "\n",
    "rf_bsscores = cross_val_score(rf, X_bsmote1, y_bsmote1 , cv=7)\n",
    "print(f\"RF scores:\",np.round(rf_bsscores.mean(),4))\n",
    "\n",
    "print('\\tМетрики  SMOTE 2')\n",
    "\n",
    "svm_bs2scores = cross_val_score(svm, X_bsmote2, y_bsmote2 , cv=7)\n",
    "print(f\"SVM scores:\" ,np.round(svm_bs2scores.mean(),4))\n",
    "\n",
    "knn_bs2scores = cross_val_score(knn, X_bsmote2, y_bsmote2 , cv=7)\n",
    "print(f\"KNN scores:\", np.round(knn_bs2scores.mean(),4))\n",
    "\n",
    "rf_bs2scores = cross_val_score(rf, X_bsmote2, y_bsmote2 , cv=7)\n",
    "print(f\"RF scores:\",np.round(rf_bs2scores.mean(),4))\n",
    "\n",
    "\n",
    "\n",
    "\n"
   ]
  },
  {
   "cell_type": "code",
   "execution_count": null,
   "outputs": [],
   "source": [],
   "metadata": {
    "collapsed": false
   },
   "id": "586afc3678438ec8"
  }
 ],
 "metadata": {
  "kernelspec": {
   "display_name": "Python 3",
   "language": "python",
   "name": "python3"
  },
  "language_info": {
   "codemirror_mode": {
    "name": "ipython",
    "version": 2
   },
   "file_extension": ".py",
   "mimetype": "text/x-python",
   "name": "python",
   "nbconvert_exporter": "python",
   "pygments_lexer": "ipython2",
   "version": "2.7.6"
  }
 },
 "nbformat": 4,
 "nbformat_minor": 5
}
